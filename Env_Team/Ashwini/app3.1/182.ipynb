{
 "cells": [
  {
   "cell_type": "code",
   "execution_count": 1,
   "id": "44640b9a-65c0-44fc-938c-10ab6922424d",
   "metadata": {},
   "outputs": [
    {
     "data": {
      "text/plain": [
       "0        4.0\n",
       "1        4.0\n",
       "2        4.0\n",
       "3        5.0\n",
       "4        4.5\n",
       "        ... \n",
       "44995    4.0\n",
       "44996    5.0\n",
       "44997    5.0\n",
       "44998    5.0\n",
       "44999    5.0\n",
       "Name: Rating, Length: 45000, dtype: float64"
      ]
     },
     "execution_count": 1,
     "metadata": {},
     "output_type": "execute_result"
    }
   ],
   "source": [
    "import pandas\n",
    "from datetime import datetime\n",
    "from pytz import utc\n",
    "data = pandas.read_csv(\"reviews.csv\" ,parse_dates = ['Timestamp'])\n",
    "data['Rating']"
   ]
  },
  {
   "cell_type": "code",
   "execution_count": 2,
   "id": "0cd7b494-97ea-41e4-9fe1-ce28cb771759",
   "metadata": {},
   "outputs": [
    {
     "data": {
      "text/plain": [
       "4.442155555555556"
      ]
     },
     "execution_count": 2,
     "metadata": {},
     "output_type": "execute_result"
    }
   ],
   "source": [
    "#Average\n",
    "data['Rating'].mean()"
   ]
  },
  {
   "cell_type": "code",
   "execution_count": 3,
   "id": "a1a2bd9b-a05e-4c06-8d05-84e504c0288e",
   "metadata": {},
   "outputs": [
    {
     "data": {
      "text/plain": [
       "4.477270180942244"
      ]
     },
     "execution_count": 3,
     "metadata": {},
     "output_type": "execute_result"
    }
   ],
   "source": [
    "#Average Rating for particular course\n",
    "data[data['Course Name'] == \"The Python Mega Course: Build 10 Real World Applications\"]['Rating'].mean()"
   ]
  },
  {
   "cell_type": "code",
   "execution_count": 5,
   "id": "f38c3960-5c0d-4e0f-b3d5-ca9bba8a8ae5",
   "metadata": {},
   "outputs": [
    {
     "data": {
      "text/plain": [
       "4.404587372901395"
      ]
     },
     "execution_count": 5,
     "metadata": {},
     "output_type": "execute_result"
    }
   ],
   "source": [
    "#Average Rating for particular period\n",
    "data[(data['Timestamp'] <= datetime(2020,1,1,tzinfo=utc)) & (data['Timestamp'] <= datetime(2020,12,31,tzinfo=utc))]['Rating'].mean()"
   ]
  },
  {
   "cell_type": "code",
   "execution_count": 7,
   "id": "52c53965-34af-4fd4-aeb9-bc1961a69e05",
   "metadata": {},
   "outputs": [
    {
     "data": {
      "text/plain": [
       "4.4422792954329715"
      ]
     },
     "execution_count": 7,
     "metadata": {},
     "output_type": "execute_result"
    }
   ],
   "source": [
    "#Average Rating for particular period for particular course\n",
    "data[(data['Timestamp'] <= datetime(2020,1,1,tzinfo=utc)) & (data['Timestamp'] <= datetime(2020,12,31,tzinfo=utc)) & (data['Course Name'] == \"The Python Mega Course: Build 10 Real World Applications\") ]['Rating'].mean()"
   ]
  },
  {
   "cell_type": "code",
   "execution_count": 8,
   "id": "6a107d10-64f7-4aba-8bfe-517e25afef80",
   "metadata": {},
   "outputs": [
    {
     "data": {
      "text/plain": [
       "4.433679746603492"
      ]
     },
     "execution_count": 8,
     "metadata": {},
     "output_type": "execute_result"
    }
   ],
   "source": [
    "#Average of uncommented ratings\n",
    "data[data['Comment'].isnull()]['Rating'].mean()"
   ]
  },
  {
   "cell_type": "code",
   "execution_count": 9,
   "id": "9469aa9b-4932-446f-9bf7-c596765c460b",
   "metadata": {},
   "outputs": [
    {
     "data": {
      "text/plain": [
       "38201"
      ]
     },
     "execution_count": 9,
     "metadata": {},
     "output_type": "execute_result"
    }
   ],
   "source": [
    "#no of uncommented ratings\n",
    "data[data['Comment'].isnull()]['Rating'].count()"
   ]
  },
  {
   "cell_type": "code",
   "execution_count": 10,
   "id": "bb1f2557-1293-4118-925e-b80aec6a1fbf",
   "metadata": {},
   "outputs": [
    {
     "data": {
      "text/plain": [
       "6799"
      ]
     },
     "execution_count": 10,
     "metadata": {},
     "output_type": "execute_result"
    }
   ],
   "source": [
    "#no of commented ratings\n",
    "data[data['Comment'].notnull()]['Rating'].count()"
   ]
  },
  {
   "cell_type": "code",
   "execution_count": null,
   "id": "cf85c3ca-0147-4b00-8e0d-8307d0ffce70",
   "metadata": {},
   "outputs": [],
   "source": []
  }
 ],
 "metadata": {
  "kernelspec": {
   "display_name": "Python 3 (ipykernel)",
   "language": "python",
   "name": "python3"
  },
  "language_info": {
   "codemirror_mode": {
    "name": "ipython",
    "version": 3
   },
   "file_extension": ".py",
   "mimetype": "text/x-python",
   "name": "python",
   "nbconvert_exporter": "python",
   "pygments_lexer": "ipython3",
   "version": "3.12.1"
  }
 },
 "nbformat": 4,
 "nbformat_minor": 5
}
